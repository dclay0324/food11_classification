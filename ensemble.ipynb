{
 "cells": [
  {
   "cell_type": "code",
   "execution_count": 2,
   "id": "9a30ca26",
   "metadata": {},
   "outputs": [],
   "source": [
    "# Import necessary packages.\n",
    "import numpy as np\n",
    "import pandas as pd\n",
    "import torch\n",
    "import torch.nn as nn\n",
    "import torchvision.transforms as transforms\n",
    "import matplotlib.pyplot as plt\n",
    "import seaborn as sns\n",
    "\n",
    "from PIL import Image\n",
    "from tqdm.auto import tqdm\n",
    "from torch.utils.data import DataLoader\n",
    "from torch.utils.tensorboard import SummaryWriter\n",
    "from torchvision.datasets import DatasetFolder\n",
    "from efficientnet_pytorch import EfficientNet\n",
    "from sklearn.metrics import confusion_matrix, f1_score\n",
    "from torchensemble import VotingClassifier  # voting is a classic ensemble strategy"
   ]
  },
  {
   "cell_type": "code",
   "execution_count": 3,
   "id": "9736170b",
   "metadata": {},
   "outputs": [],
   "source": [
    "# It is important to do data augmentation in training.\n",
    "# However, not every augmentation is useful.\n",
    "# Please think about what kind of augmentation is helpful for food recognition.\n",
    "train_tfm = transforms.Compose([\n",
    "    # Resize the image into a fixed shape (height = width = 128)\n",
    "    transforms.Resize((128, 128)),\n",
    "    # Data Augmentation\n",
    "    transforms.ColorJitter(brightness=0.1, contrast=0.1, saturation=0.1),\n",
    "    transforms.RandomAffine(15),\n",
    "    transforms.RandomHorizontalFlip(),\n",
    "    transforms.RandomRotation(15),\n",
    "    # ToTensor() should be the last one of the transforms.\n",
    "    transforms.ToTensor(),\n",
    "])\n",
    "\n",
    "# We don't need augmentations in testing and validation.\n",
    "# All we need here is to resize the PIL image and transform it into Tensor.\n",
    "test_tfm = transforms.Compose([\n",
    "    transforms.Resize((128, 128)),\n",
    "    transforms.ToTensor(),\n",
    "])\n"
   ]
  },
  {
   "cell_type": "code",
   "execution_count": 4,
   "id": "3b25d9b6",
   "metadata": {},
   "outputs": [],
   "source": [
    "# Batch size for training, validation, and testing.\n",
    "# A greater batch size usually gives a more stable gradient.\n",
    "# But the GPU memory is limited, so please adjust it carefully.\n",
    "batch_size = 128\n",
    "\n",
    "# Construct datasets.\n",
    "# The argument \"loader\" tells how torchvision reads the data.\n",
    "train_set = DatasetFolder(\"Downloads/archive/training\", loader=lambda x: Image.open(x), extensions=\"jpg\", transform=train_tfm)\n",
    "valid_set = DatasetFolder(\"Downloads/archive/validation\", loader=lambda x: Image.open(x), extensions=\"jpg\", transform=test_tfm)\n",
    "test_set = DatasetFolder(\"Downloads/archive/evaluation\", loader=lambda x: Image.open(x), extensions=\"jpg\", transform=test_tfm)\n",
    "\n",
    "# Construct data loaders.\n",
    "train_loader = DataLoader(train_set, batch_size=batch_size, shuffle=True, num_workers=0, pin_memory=False)\n",
    "valid_loader = DataLoader(valid_set, batch_size=batch_size, shuffle=True, num_workers=0, pin_memory=False)\n",
    "test_loader = DataLoader(test_set, batch_size=batch_size, shuffle=False)"
   ]
  },
  {
   "cell_type": "code",
   "execution_count": 29,
   "id": "cef17261",
   "metadata": {},
   "outputs": [],
   "source": [
    "class_names = {\n",
    "    0: 'Bread', \n",
    "    1: 'Dairy product', \n",
    "    2: 'Dessert', \n",
    "    3: 'Egg', \n",
    "    4: 'Fried food', \n",
    "    5: 'Meat',\n",
    "    6: 'Noodles-Pasta',\n",
    "    7: 'Rice', \n",
    "    8: 'Seafood',\n",
    "    9: 'Soup',\n",
    "    10: 'Vegetable-Fruit'\n",
    "}"
   ]
  },
  {
   "cell_type": "code",
   "execution_count": 5,
   "id": "b93fe4d3",
   "metadata": {},
   "outputs": [],
   "source": [
    "model_resnet = torch.load(\"models/resnet50_20.pt\")\n",
    "model_desnet = torch.load(\"models/densenet121_20.pt\")\n",
    "model_effnet = torch.load(\"models/effnetb5_20.pt\")"
   ]
  },
  {
   "cell_type": "code",
   "execution_count": 22,
   "id": "ed50e8a2",
   "metadata": {},
   "outputs": [],
   "source": [
    "def pred(model):\n",
    "    # \"cuda\" only when GPUs are available.\n",
    "    device = \"cuda\" if torch.cuda.is_available() else \"cpu\"\n",
    "\n",
    "    # Initialize a model, and put it on the device specified.\n",
    "    model = model.to(device)\n",
    "    model.device = device\n",
    "    \n",
    "    # Make sure the model is in eval mode.\n",
    "    # Some modules like Dropout or BatchNorm affect if the model is in training mode.\n",
    "    model.eval()\n",
    "\n",
    "    # Initialize a list to store the predictions.\n",
    "    y_pred = []\n",
    "    y_true = []\n",
    "    test_accs = []\n",
    "\n",
    "    # Iterate the testing set by batches.\n",
    "    for batch in tqdm(test_loader):\n",
    "        # A batch consists of image data and corresponding labels.\n",
    "        # But here the variable \"labels\" is useless since we do not have the ground-truth.\n",
    "        # If printing out the labels, you will find that it is always 0.\n",
    "        # This is because the wrapper (DatasetFolder) returns images and labels for each batch,\n",
    "        # so we have to create fake labels to make it work normally.\n",
    "        imgs, labels = batch\n",
    "\n",
    "        # We don't need gradient in testing, and we don't even have labels to compute loss.\n",
    "        # Using torch.no_grad() accelerates the forward process.\n",
    "        with torch.no_grad():\n",
    "            logits = model(imgs.to(device))\n",
    "\n",
    "        # Compute and record the accuracy for current batch.\n",
    "        acc = (logits.argmax(dim=-1) == labels.to(device)).float().mean()\n",
    "        test_accs.append(acc)\n",
    "\n",
    "        # Take the class with greatest logit as prediction and record it.\n",
    "        y_pred.extend(logits.argmax(dim=-1).cpu().numpy().tolist())\n",
    "        y_true.extend(labels.view(-1).cpu().numpy())\n",
    "        # print(len(labels))\n",
    "\n",
    "    test_acc = sum(test_accs) / len(test_accs)\n",
    "    \n",
    "    # Calculate f1-score\n",
    "    f1 = f1_score(y_true, y_pred, average='micro')\n",
    "    \n",
    "    return y_pred, y_true, f1"
   ]
  },
  {
   "cell_type": "code",
   "execution_count": 47,
   "id": "7255a6e9",
   "metadata": {
    "scrolled": true
   },
   "outputs": [
    {
     "data": {
      "application/vnd.jupyter.widget-view+json": {
       "model_id": "9d2972a352724bd086c8f0f69b8f62ce",
       "version_major": 2,
       "version_minor": 0
      },
      "text/plain": [
       "  0%|          | 0/27 [00:00<?, ?it/s]"
      ]
     },
     "metadata": {},
     "output_type": "display_data"
    },
    {
     "data": {
      "application/vnd.jupyter.widget-view+json": {
       "model_id": "48ae6f1f33a841d2b6cf078a2ddf5cd9",
       "version_major": 2,
       "version_minor": 0
      },
      "text/plain": [
       "  0%|          | 0/27 [00:00<?, ?it/s]"
      ]
     },
     "metadata": {},
     "output_type": "display_data"
    },
    {
     "data": {
      "application/vnd.jupyter.widget-view+json": {
       "model_id": "efb7a7214f874657b0c47efce932d394",
       "version_major": 2,
       "version_minor": 0
      },
      "text/plain": [
       "  0%|          | 0/27 [00:00<?, ?it/s]"
      ]
     },
     "metadata": {},
     "output_type": "display_data"
    },
    {
     "name": "stdout",
     "output_type": "stream",
     "text": [
      "F1-Res: 0.8856, F1-Dense: 0.8981, F1-Eff: 0.8375\n"
     ]
    }
   ],
   "source": [
    "y_pred_resnet, y_true, f1_resnet = pred(model_resnet)\n",
    "y_pred_desnet, _, f1_desnet = pred(model_desnet)\n",
    "y_pred_effnet, _, f1_effnet = pred(model_effnet)\n",
    "\n",
    "# Print F1-Score\n",
    "print(f\"F1-Res: {f1_resnet:.4f}, F1-Dense: {f1_desnet:.4f}, F1-Eff: {f1_effnet:.4f}\")"
   ]
  },
  {
   "cell_type": "code",
   "execution_count": 56,
   "id": "bc5aff4e",
   "metadata": {},
   "outputs": [],
   "source": [
    "y_pred = []\n",
    "for i in range(len(y_pred_resnet)):\n",
    "    if (y_pred_resnet[i] == y_pred_effnet[i]) and (y_pred_desnet[i] != y_pred_effnet[i]):\n",
    "        next_token = y_pred_resnet[i]\n",
    "    else:\n",
    "        next_token = y_pred_desnet[i]\n",
    "    y_pred.append(next_token)\n",
    "# print(y_pred)"
   ]
  },
  {
   "cell_type": "code",
   "execution_count": 57,
   "id": "cb0c7cd2",
   "metadata": {},
   "outputs": [
    {
     "name": "stdout",
     "output_type": "stream",
     "text": [
      "{0: 'Bread', 1: 'Dairy product', 2: 'Dessert', 3: 'Egg', 4: 'Fried food', 5: 'Meat', 6: 'Noodles-Pasta', 7: 'Rice', 8: 'Seafood', 9: 'Soup', 10: 'Vegetable-Fruit'}\n",
      "[0.82833787 0.85714286 0.81676413 0.83988764 0.86170213 0.91100703\n",
      " 0.97857143 0.88118812 0.91216216 0.95686275 0.95196507]\n",
      "Plot confusion matrix\n"
     ]
    },
    {
     "data": {
      "image/png": "[encoded data removed]",
      "text/plain": [
       "<Figure size 648x432 with 2 Axes>"
      ]
     },
     "metadata": {
      "needs_background": "light"
     },
     "output_type": "display_data"
    }
   ],
   "source": [
    "# 製作混淆矩陣\n",
    "cf_matrix = confusion_matrix(y_true, y_pred_resnet)   \n",
    "\n",
    "# 計算每個class的accuracy\n",
    "per_cls_acc = cf_matrix.diagonal()/cf_matrix.sum(axis=0)\n",
    "print(class_names)\n",
    "print(per_cls_acc)\n",
    "print(\"Plot confusion matrix\")\n",
    "\n",
    "# Calculate f1-score\n",
    "f1 = f1_score(y_true, y_pred, average='micro')\n",
    "\n",
    "# 開始繪製混淆矩陣並存檔\n",
    "df_cm = pd.DataFrame(cf_matrix, class_names, class_names) \n",
    "plt.figure(figsize = (9,6))\n",
    "sns.heatmap(df_cm, annot=True, fmt=\"d\", cmap='BuGn')\n",
    "\n",
    "plt.title(f\"F1-Score: {f1:.4f}\")\n",
    "plt.xlabel(\"prediction\")\n",
    "plt.ylabel(\"label (ground truth)\")\n",
    "plt.savefig(\"report_AI/confusion_matrix_ensemble.png\")"
   ]
  }
 ],
 "metadata": {
  "kernelspec": {
   "display_name": "Python 3",
   "language": "python",
   "name": "python3"
  },
  "language_info": {
   "codemirror_mode": {
    "name": "ipython",
    "version": 3
   },
   "file_extension": ".py",
   "mimetype": "text/x-python",
   "name": "python",
   "nbconvert_exporter": "python",
   "pygments_lexer": "ipython3",
   "version": "3.8.8"
  }
 },
 "nbformat": 4,
 "nbformat_minor": 5
}
